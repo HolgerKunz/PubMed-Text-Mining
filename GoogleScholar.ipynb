{
 "cells": [
  {
   "cell_type": "markdown",
   "metadata": {},
   "source": [
    "## Downloading Data from Google Scholar\n",
    "The citation information was obtained from google scholar using fixed search term \"quantitative susceptibility mapping mri\"."
   ]
  },
  {
   "cell_type": "code",
   "execution_count": 1,
   "metadata": {
    "collapsed": true
   },
   "outputs": [],
   "source": [
    "import scholar as gss\n",
    "import pandas as pd"
   ]
  },
  {
   "cell_type": "code",
   "execution_count": 28,
   "metadata": {
    "collapsed": true
   },
   "outputs": [],
   "source": [
    "import time\n",
    "import numpy as np"
   ]
  },
  {
   "cell_type": "code",
   "execution_count": 2,
   "metadata": {
    "collapsed": true
   },
   "outputs": [],
   "source": [
    "querier = gss.ScholarQuerier()\n",
    "settings = gss.ScholarSettings()"
   ]
  },
  {
   "cell_type": "code",
   "execution_count": 3,
   "metadata": {
    "collapsed": false
   },
   "outputs": [
    {
     "data": {
      "text/plain": [
       "True"
      ]
     },
     "execution_count": 3,
     "metadata": {},
     "output_type": "execute_result"
    }
   ],
   "source": [
    "querier.apply_settings(settings)"
   ]
  },
  {
   "cell_type": "code",
   "execution_count": 6,
   "metadata": {
    "collapsed": false
   },
   "outputs": [],
   "source": [
    "phrase='quantitative \"susceptibility mapping\" mri'\n",
    "query = gss.SearchScholarQuery()\n",
    "query.set_phrase(phrase)"
   ]
  },
  {
   "cell_type": "code",
   "execution_count": 36,
   "metadata": {
    "collapsed": false
   },
   "outputs": [],
   "source": [
    "num_total=1780\n",
    "num_steps=89"
   ]
  },
  {
   "cell_type": "code",
   "execution_count": 60,
   "metadata": {
    "collapsed": false
   },
   "outputs": [
    {
     "name": "stdout",
     "output_type": "stream",
     "text": [
      "Step 43 is done! 880 articles downloaded. Sleep 17 seconds.\n",
      "Step 44 is done! 900 articles downloaded. Sleep 14 seconds.\n",
      "Step 45 is done! 920 articles downloaded. Sleep 13 seconds.\n",
      "Step 46 is done! 940 articles downloaded. Sleep 28 seconds.\n",
      "Step 47 is done! 960 articles downloaded. Sleep 15 seconds.\n",
      "Step 48 is done! 980 articles downloaded. Sleep 29 seconds.\n",
      "Step 49 is done! 1000 articles downloaded. Sleep 23 seconds.\n",
      "Step 50 is done! 1020 articles downloaded. Sleep 23 seconds.\n",
      "Step 51 is done! 1040 articles downloaded. Sleep 20 seconds.\n",
      "Step 52 is done! 1060 articles downloaded. Sleep 10 seconds.\n",
      "Step 53 is done! 1080 articles downloaded. Sleep 26 seconds.\n",
      "Step 54 is done! 1100 articles downloaded. Sleep 16 seconds.\n",
      "Step 55 is done! 1120 articles downloaded. Sleep 13 seconds.\n",
      "Step 56 is done! 1140 articles downloaded. Sleep 13 seconds.\n",
      "Step 57 is done! 1160 articles downloaded. Sleep 15 seconds.\n",
      "Step 58 is done! 1180 articles downloaded. Sleep 14 seconds.\n",
      "Step 59 is done! 1200 articles downloaded. Sleep 19 seconds.\n",
      "Step 60 is done! 1220 articles downloaded. Sleep 20 seconds.\n",
      "Step 61 is done! 1240 articles downloaded. Sleep 19 seconds.\n",
      "Step 62 is done! 1260 articles downloaded. Sleep 26 seconds.\n",
      "Step 63 is done! 1280 articles downloaded. Sleep 13 seconds.\n",
      "Step 64 is done! 1300 articles downloaded. Sleep 14 seconds.\n",
      "Step 65 is done! 1320 articles downloaded. Sleep 12 seconds.\n",
      "Step 66 is done! 1340 articles downloaded. Sleep 22 seconds.\n",
      "Step 67 is done! 1360 articles downloaded. Sleep 10 seconds.\n",
      "Step 68 is done! 1380 articles downloaded. Sleep 24 seconds.\n",
      "Step 69 is done! 1400 articles downloaded. Sleep 21 seconds.\n",
      "Step 70 is done! 1420 articles downloaded. Sleep 11 seconds.\n",
      "Step 71 is done! 1440 articles downloaded. Sleep 19 seconds.\n",
      "Step 72 is done! 1460 articles downloaded. Sleep 14 seconds.\n",
      "Step 73 is done! 1480 articles downloaded. Sleep 23 seconds.\n",
      "Step 74 is done! 1500 articles downloaded. Sleep 13 seconds.\n",
      "Step 75 is done! 1520 articles downloaded. Sleep 12 seconds.\n",
      "Step 76 is done! 1540 articles downloaded. Sleep 22 seconds.\n",
      "Step 77 is done! 1560 articles downloaded. Sleep 21 seconds.\n",
      "Step 78 is done! 1580 articles downloaded. Sleep 14 seconds.\n",
      "Step 79 is done! 1600 articles downloaded. Sleep 12 seconds.\n",
      "Step 80 is done! 1620 articles downloaded. Sleep 24 seconds.\n",
      "Step 81 is done! 1640 articles downloaded. Sleep 24 seconds.\n",
      "Step 82 is done! 1660 articles downloaded. Sleep 10 seconds.\n",
      "Step 83 is done! 1680 articles downloaded. Sleep 18 seconds.\n",
      "Step 84 is done! 1700 articles downloaded. Sleep 20 seconds.\n",
      "Step 85 is done! 1720 articles downloaded. Sleep 24 seconds.\n",
      "Step 86 is done! 1740 articles downloaded. Sleep 26 seconds.\n",
      "Step 87 is done! 1760 articles downloaded. Sleep 19 seconds.\n",
      "Step 88 is done! 1780 articles downloaded. Sleep 23 seconds.\n"
     ]
    }
   ],
   "source": [
    "for ii in range(43, num_steps):\n",
    "    ind_shift=20*ii\n",
    "    query.start_with=ind_shift\n",
    "    querier.send_query(query)\n",
    "    for i in range(0,len(querier.articles)):\n",
    "        temp=querier.articles[i].as_csv(header=True).split('\\n')[1].split('|')\n",
    "        df.loc[i+1+ind_shift]=temp[:11]  #ind starts with 1\n",
    "    time_pause=np.random.randint(10, 30)\n",
    "    print('Step {} is done! {} articles downloaded. Sleep {} seconds.'.format(ii,ii*20+20,time_pause))\n",
    "    time.sleep(time_pause)"
   ]
  },
  {
   "cell_type": "code",
   "execution_count": 77,
   "metadata": {
    "collapsed": false
   },
   "outputs": [],
   "source": [
    "df2=df.iloc[0:972,:]"
   ]
  },
  {
   "cell_type": "code",
   "execution_count": 78,
   "metadata": {
    "collapsed": true
   },
   "outputs": [],
   "source": [
    "df2.to_csv('CitationData2.csv', index=False)"
   ]
  },
  {
   "cell_type": "code",
   "execution_count": 85,
   "metadata": {
    "collapsed": true
   },
   "outputs": [],
   "source": [
    "df.to_pickle('CitationData.pickle')"
   ]
  }
 ],
 "metadata": {
  "kernelspec": {
   "display_name": "Python 3",
   "language": "python",
   "name": "python3"
  },
  "language_info": {
   "codemirror_mode": {
    "name": "ipython",
    "version": 3
   },
   "file_extension": ".py",
   "mimetype": "text/x-python",
   "name": "python",
   "nbconvert_exporter": "python",
   "pygments_lexer": "ipython3",
   "version": "3.4.4"
  }
 },
 "nbformat": 4,
 "nbformat_minor": 0
}
